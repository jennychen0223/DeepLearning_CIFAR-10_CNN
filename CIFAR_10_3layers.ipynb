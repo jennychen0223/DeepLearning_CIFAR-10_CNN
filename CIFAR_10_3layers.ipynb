{
  "nbformat": 4,
  "nbformat_minor": 0,
  "metadata": {
    "colab": {
      "name": "CIFAR-10_3layers.ipynb",
      "provenance": [],
      "collapsed_sections": [],
      "authorship_tag": "ABX9TyPGlO4JV3aItMrzZZ7Bbd38",
      "include_colab_link": true
    },
    "kernelspec": {
      "name": "python3",
      "display_name": "Python 3"
    },
    "language_info": {
      "name": "python"
    },
    "accelerator": "GPU"
  },
  "cells": [
    {
      "cell_type": "markdown",
      "metadata": {
        "id": "view-in-github",
        "colab_type": "text"
      },
      "source": [
        "<a href=\"https://colab.research.google.com/github/jennychen0223/DeepLearning_CIFAR-10_CNN/blob/main/CIFAR_10_3layers.ipynb\" target=\"_parent\"><img src=\"https://colab.research.google.com/assets/colab-badge.svg\" alt=\"Open In Colab\"/></a>"
      ]
    },
    {
      "cell_type": "code",
      "metadata": {
        "id": "yQpKzDRkNtBJ"
      },
      "source": [
        "from keras.datasets import cifar10\n",
        "import numpy as np\n",
        "import tensorflow as tf\n",
        "import matplotlib.pyplot as plt\n"
      ],
      "execution_count": 1,
      "outputs": []
    },
    {
      "cell_type": "code",
      "metadata": {
        "id": "F1hwiZkDOs1x",
        "colab": {
          "base_uri": "https://localhost:8080/"
        },
        "outputId": "714ffba2-b53d-4b44-b9f1-047de97f315f"
      },
      "source": [
        "(x_img_train,y_label_train),(x_img_test,y_label_test) = cifar10.load_data()"
      ],
      "execution_count": 2,
      "outputs": [
        {
          "output_type": "stream",
          "text": [
            "Downloading data from https://www.cs.toronto.edu/~kriz/cifar-10-python.tar.gz\n",
            "170500096/170498071 [==============================] - 6s 0us/step\n",
            "170508288/170498071 [==============================] - 6s 0us/step\n"
          ],
          "name": "stdout"
        }
      ]
    },
    {
      "cell_type": "code",
      "metadata": {
        "id": "OPBvLtHIOx_O",
        "colab": {
          "base_uri": "https://localhost:8080/"
        },
        "outputId": "523e9cf4-43aa-4311-dbee-cb6994983e66"
      },
      "source": [
        "print('train:', len(x_img_train))\n",
        "print('test:', len(x_img_test))"
      ],
      "execution_count": 3,
      "outputs": [
        {
          "output_type": "stream",
          "text": [
            "train: 50000\n",
            "test: 10000\n"
          ],
          "name": "stdout"
        }
      ]
    },
    {
      "cell_type": "code",
      "metadata": {
        "id": "-N1IxcidO0ck",
        "colab": {
          "base_uri": "https://localhost:8080/"
        },
        "outputId": "cc51b113-1414-47f2-a2f7-d44a8be51b2f"
      },
      "source": [
        "x_img_train.shape"
      ],
      "execution_count": 4,
      "outputs": [
        {
          "output_type": "execute_result",
          "data": {
            "text/plain": [
              "(50000, 32, 32, 3)"
            ]
          },
          "metadata": {
            "tags": []
          },
          "execution_count": 4
        }
      ]
    },
    {
      "cell_type": "code",
      "metadata": {
        "id": "7tjOmYUi9wsX",
        "colab": {
          "base_uri": "https://localhost:8080/"
        },
        "outputId": "b3426bc3-0cc4-4513-dd3c-acffbbaae88a"
      },
      "source": [
        "x_img_test[0]"
      ],
      "execution_count": 5,
      "outputs": [
        {
          "output_type": "execute_result",
          "data": {
            "text/plain": [
              "array([[[158, 112,  49],\n",
              "        [159, 111,  47],\n",
              "        [165, 116,  51],\n",
              "        ...,\n",
              "        [137,  95,  36],\n",
              "        [126,  91,  36],\n",
              "        [116,  85,  33]],\n",
              "\n",
              "       [[152, 112,  51],\n",
              "        [151, 110,  40],\n",
              "        [159, 114,  45],\n",
              "        ...,\n",
              "        [136,  95,  31],\n",
              "        [125,  91,  32],\n",
              "        [119,  88,  34]],\n",
              "\n",
              "       [[151, 110,  47],\n",
              "        [151, 109,  33],\n",
              "        [158, 111,  36],\n",
              "        ...,\n",
              "        [139,  98,  34],\n",
              "        [130,  95,  34],\n",
              "        [120,  89,  33]],\n",
              "\n",
              "       ...,\n",
              "\n",
              "       [[ 68, 124, 177],\n",
              "        [ 42, 100, 148],\n",
              "        [ 31,  88, 137],\n",
              "        ...,\n",
              "        [ 38,  97, 146],\n",
              "        [ 13,  64, 108],\n",
              "        [ 40,  85, 127]],\n",
              "\n",
              "       [[ 61, 116, 168],\n",
              "        [ 49, 102, 148],\n",
              "        [ 35,  85, 132],\n",
              "        ...,\n",
              "        [ 26,  82, 130],\n",
              "        [ 29,  82, 126],\n",
              "        [ 20,  64, 107]],\n",
              "\n",
              "       [[ 54, 107, 160],\n",
              "        [ 56, 105, 149],\n",
              "        [ 45,  89, 132],\n",
              "        ...,\n",
              "        [ 24,  77, 124],\n",
              "        [ 34,  84, 129],\n",
              "        [ 21,  67, 110]]], dtype=uint8)"
            ]
          },
          "metadata": {
            "tags": []
          },
          "execution_count": 5
        }
      ]
    },
    {
      "cell_type": "code",
      "metadata": {
        "id": "IrFzcEuv9zwV",
        "colab": {
          "base_uri": "https://localhost:8080/"
        },
        "outputId": "1ffded17-d9f4-4b4e-de26-e0a757dad76a"
      },
      "source": [
        "y_label_train.shape"
      ],
      "execution_count": 6,
      "outputs": [
        {
          "output_type": "execute_result",
          "data": {
            "text/plain": [
              "(50000, 1)"
            ]
          },
          "metadata": {
            "tags": []
          },
          "execution_count": 6
        }
      ]
    },
    {
      "cell_type": "code",
      "metadata": {
        "id": "zhb8P-ur-E2C"
      },
      "source": [
        "label_dict = {0:'airplane',\n",
        "              1:'automobile',\n",
        "              2:'bird',\n",
        "              3:'cat',\n",
        "              4:'deet',\n",
        "              5:'dog',\n",
        "              6:'frog',\n",
        "              7:'horse',\n",
        "              8:'ship',\n",
        "              9:'truck'}"
      ],
      "execution_count": 7,
      "outputs": []
    },
    {
      "cell_type": "code",
      "metadata": {
        "id": "fXF9XMo5-aOD"
      },
      "source": [
        "def show_images_labels_predictions(images, labels, predictions, start_id, num=10):\n",
        "  plt.gcf().set_size_inches(12, 14)\n",
        "\n",
        "  if num>25: num=25\n",
        "  for i in range(0, num):\n",
        "    ax = plt.subplot(5,5,i+1)\n",
        "    #顯示黑白圖片\n",
        "    ax.imshow(images[start_id], cmap = 'binary')\n",
        "    title = str(i) + ','+ label_dict[labels[i][0]]\n",
        "\n",
        "    #有預測結果資料，才顯示結果\n",
        "    if (len(predictions) > 0):\n",
        "      title += '=>' + label_dict[predictions[i]]\n",
        "                                 \n",
        "    ax.set_title(title, fontsize=12)\n",
        "    ax.set_xticks([]); ax.set_yticks([])\n",
        "    start_id += 1\n",
        "  plt.show()"
      ],
      "execution_count": 8,
      "outputs": []
    },
    {
      "cell_type": "markdown",
      "metadata": {
        "id": "DZ7kDSX1_QPT"
      },
      "source": [
        "預處理"
      ]
    },
    {
      "cell_type": "code",
      "metadata": {
        "id": "JQmIlP3ePP6m",
        "colab": {
          "base_uri": "https://localhost:8080/"
        },
        "outputId": "82f10965-4153-425f-b220-f7de0b5ad296"
      },
      "source": [
        "x_img_train[0][0][0]"
      ],
      "execution_count": 9,
      "outputs": [
        {
          "output_type": "execute_result",
          "data": {
            "text/plain": [
              "array([59, 62, 63], dtype=uint8)"
            ]
          },
          "metadata": {
            "tags": []
          },
          "execution_count": 9
        }
      ]
    },
    {
      "cell_type": "code",
      "metadata": {
        "id": "98R6wxOnPxB-"
      },
      "source": [
        "x_img_train_normalize = x_img_train/255\n",
        "x_img_test_normalize = x_img_test/255"
      ],
      "execution_count": 10,
      "outputs": []
    },
    {
      "cell_type": "code",
      "metadata": {
        "id": "q3E5LpUMP6Xx",
        "colab": {
          "base_uri": "https://localhost:8080/"
        },
        "outputId": "b3077a15-2eb9-4bf8-80d6-fdd9cd04ce8c"
      },
      "source": [
        "x_img_train_normalize[0][0][0]"
      ],
      "execution_count": 11,
      "outputs": [
        {
          "output_type": "execute_result",
          "data": {
            "text/plain": [
              "array([0.23137255, 0.24313725, 0.24705882])"
            ]
          },
          "metadata": {
            "tags": []
          },
          "execution_count": 11
        }
      ]
    },
    {
      "cell_type": "code",
      "metadata": {
        "id": "iJKb61fJQM7-",
        "colab": {
          "base_uri": "https://localhost:8080/"
        },
        "outputId": "b8116c7e-0d1a-4da7-e3dd-6b577ff90e6a"
      },
      "source": [
        "y_label_train.shape"
      ],
      "execution_count": 12,
      "outputs": [
        {
          "output_type": "execute_result",
          "data": {
            "text/plain": [
              "(50000, 1)"
            ]
          },
          "metadata": {
            "tags": []
          },
          "execution_count": 12
        }
      ]
    },
    {
      "cell_type": "code",
      "metadata": {
        "id": "y7sjJ4nN_k5A",
        "colab": {
          "base_uri": "https://localhost:8080/"
        },
        "outputId": "ba6f6520-bbca-4598-c805-da61bcb6e32b"
      },
      "source": [
        "y_label_train[:5]"
      ],
      "execution_count": 13,
      "outputs": [
        {
          "output_type": "execute_result",
          "data": {
            "text/plain": [
              "array([[6],\n",
              "       [9],\n",
              "       [9],\n",
              "       [4],\n",
              "       [1]], dtype=uint8)"
            ]
          },
          "metadata": {
            "tags": []
          },
          "execution_count": 13
        }
      ]
    },
    {
      "cell_type": "code",
      "metadata": {
        "id": "OosBvjFwQQbV"
      },
      "source": [
        "from keras.utils import np_utils"
      ],
      "execution_count": 14,
      "outputs": []
    },
    {
      "cell_type": "code",
      "metadata": {
        "id": "0wNZyqXsQqNC"
      },
      "source": [
        "y_label_train_OneHot = np_utils.to_categorical(y_label_train)\n",
        "y_label_test_OneHot = np_utils.to_categorical(y_label_test)\n"
      ],
      "execution_count": 15,
      "outputs": []
    },
    {
      "cell_type": "code",
      "metadata": {
        "id": "TtBOAbDz_rO9",
        "colab": {
          "base_uri": "https://localhost:8080/"
        },
        "outputId": "1d761130-d546-4888-9fbe-c566688a3c05"
      },
      "source": [
        "y_label_train_OneHot.shape"
      ],
      "execution_count": 16,
      "outputs": [
        {
          "output_type": "execute_result",
          "data": {
            "text/plain": [
              "(50000, 10)"
            ]
          },
          "metadata": {
            "tags": []
          },
          "execution_count": 16
        }
      ]
    },
    {
      "cell_type": "code",
      "metadata": {
        "id": "URMw9KfdQxiD",
        "colab": {
          "base_uri": "https://localhost:8080/"
        },
        "outputId": "0148c20f-0705-4396-f8e7-b16b6e3117dc"
      },
      "source": [
        "y_label_train_OneHot[:5]"
      ],
      "execution_count": 17,
      "outputs": [
        {
          "output_type": "execute_result",
          "data": {
            "text/plain": [
              "array([[0., 0., 0., 0., 0., 0., 1., 0., 0., 0.],\n",
              "       [0., 0., 0., 0., 0., 0., 0., 0., 0., 1.],\n",
              "       [0., 0., 0., 0., 0., 0., 0., 0., 0., 1.],\n",
              "       [0., 0., 0., 0., 1., 0., 0., 0., 0., 0.],\n",
              "       [0., 1., 0., 0., 0., 0., 0., 0., 0., 0.]], dtype=float32)"
            ]
          },
          "metadata": {
            "tags": []
          },
          "execution_count": 17
        }
      ]
    },
    {
      "cell_type": "code",
      "metadata": {
        "id": "f510Zc1nRCoO"
      },
      "source": [
        "from keras.models import Sequential, Model\n",
        "from keras.layers import Dense, Dropout, Activation, Flatten\n",
        "from keras.layers import Conv2D, MaxPooling2D, ZeroPadding2D"
      ],
      "execution_count": 18,
      "outputs": []
    },
    {
      "cell_type": "code",
      "metadata": {
        "id": "0M0ajgBPSALo"
      },
      "source": [
        "model = Sequential()\n",
        "model.add(Conv2D(filters=32,\n",
        "                 kernel_size=(3,3),\n",
        "                 activation='relu',\n",
        "                 padding='same',\n",
        "                 input_shape=(32, 32, 3)                \n",
        "                 ))\n",
        "model.add(Dropout(rate=0.3))\n",
        "model.add(Conv2D(filters=32,\n",
        "                 kernel_size=(3,3),\n",
        "                 activation='relu',\n",
        "                 padding='same',\n",
        "                 ))\n",
        "model.add(MaxPooling2D(pool_size=(2,2)))"
      ],
      "execution_count": 19,
      "outputs": []
    },
    {
      "cell_type": "code",
      "metadata": {
        "id": "-QeFCnOUTl1W"
      },
      "source": [
        "#卷積層2與池化層2\n",
        "model.add(Conv2D(filters=64,\n",
        "                 kernel_size=(3,3),\n",
        "                 activation='relu',\n",
        "                 padding='same'\n",
        "                 ))\n",
        "model.add(Dropout(rate=0.3))\n",
        "model.add(Conv2D(filters=64,\n",
        "                 kernel_size=(3,3),\n",
        "                 activation='relu',\n",
        "                 padding='same'\n",
        "                 ))\n",
        "model.add(MaxPooling2D(pool_size=(2,2)))"
      ],
      "execution_count": 20,
      "outputs": []
    },
    {
      "cell_type": "code",
      "metadata": {
        "id": "25jHHBgzI2Nk"
      },
      "source": [
        "#卷積層3與池化層3\n",
        "model.add(Conv2D(filters=128,\n",
        "                 kernel_size=(3,3),\n",
        "                 activation='relu',\n",
        "                 padding='same'\n",
        "                 ))\n",
        "model.add(Dropout(rate=0.3))\n",
        "model.add(Conv2D(filters=128,\n",
        "                 kernel_size=(3,3),\n",
        "                 activation='relu',\n",
        "                 padding='same'\n",
        "                 ))\n",
        "model.add(MaxPooling2D(pool_size=(2,2)))"
      ],
      "execution_count": 21,
      "outputs": []
    },
    {
      "cell_type": "code",
      "metadata": {
        "id": "Hv7e7eJdUq3D"
      },
      "source": [
        "#建立神經網路（平坦層、隱藏層、輸出層）\n",
        "model.add(Flatten())\n",
        "model.add(Dropout(rate=0.3))\n",
        "model.add(Dense(2500, activation='relu'))\n",
        "model.add(Dropout(rate=0.3))\n",
        "model.add(Dense(1500, activation='relu'))\n",
        "model.add(Dropout(rate=0.3))\n",
        "model.add(Dense(10, activation='softmax'))\n"
      ],
      "execution_count": 22,
      "outputs": []
    },
    {
      "cell_type": "code",
      "metadata": {
        "id": "1RdiIgnsZbgY",
        "colab": {
          "base_uri": "https://localhost:8080/"
        },
        "outputId": "e3d8fb47-f77e-4e80-b2b8-06be13b93563"
      },
      "source": [
        "print(model.summary())"
      ],
      "execution_count": 23,
      "outputs": [
        {
          "output_type": "stream",
          "text": [
            "Model: \"sequential\"\n",
            "_________________________________________________________________\n",
            "Layer (type)                 Output Shape              Param #   \n",
            "=================================================================\n",
            "conv2d (Conv2D)              (None, 32, 32, 32)        896       \n",
            "_________________________________________________________________\n",
            "dropout (Dropout)            (None, 32, 32, 32)        0         \n",
            "_________________________________________________________________\n",
            "conv2d_1 (Conv2D)            (None, 32, 32, 32)        9248      \n",
            "_________________________________________________________________\n",
            "max_pooling2d (MaxPooling2D) (None, 16, 16, 32)        0         \n",
            "_________________________________________________________________\n",
            "conv2d_2 (Conv2D)            (None, 16, 16, 64)        18496     \n",
            "_________________________________________________________________\n",
            "dropout_1 (Dropout)          (None, 16, 16, 64)        0         \n",
            "_________________________________________________________________\n",
            "conv2d_3 (Conv2D)            (None, 16, 16, 64)        36928     \n",
            "_________________________________________________________________\n",
            "max_pooling2d_1 (MaxPooling2 (None, 8, 8, 64)          0         \n",
            "_________________________________________________________________\n",
            "conv2d_4 (Conv2D)            (None, 8, 8, 128)         73856     \n",
            "_________________________________________________________________\n",
            "dropout_2 (Dropout)          (None, 8, 8, 128)         0         \n",
            "_________________________________________________________________\n",
            "conv2d_5 (Conv2D)            (None, 8, 8, 128)         147584    \n",
            "_________________________________________________________________\n",
            "max_pooling2d_2 (MaxPooling2 (None, 4, 4, 128)         0         \n",
            "_________________________________________________________________\n",
            "flatten (Flatten)            (None, 2048)              0         \n",
            "_________________________________________________________________\n",
            "dropout_3 (Dropout)          (None, 2048)              0         \n",
            "_________________________________________________________________\n",
            "dense (Dense)                (None, 2500)              5122500   \n",
            "_________________________________________________________________\n",
            "dropout_4 (Dropout)          (None, 2500)              0         \n",
            "_________________________________________________________________\n",
            "dense_1 (Dense)              (None, 1500)              3751500   \n",
            "_________________________________________________________________\n",
            "dropout_5 (Dropout)          (None, 1500)              0         \n",
            "_________________________________________________________________\n",
            "dense_2 (Dense)              (None, 10)                15010     \n",
            "=================================================================\n",
            "Total params: 9,176,018\n",
            "Trainable params: 9,176,018\n",
            "Non-trainable params: 0\n",
            "_________________________________________________________________\n",
            "None\n"
          ],
          "name": "stdout"
        }
      ]
    },
    {
      "cell_type": "code",
      "metadata": {
        "id": "0c7y43xiT5pR"
      },
      "source": [
        "model.compile(loss='categorical_crossentropy',\n",
        "              optimizer='adam',\n",
        "              metrics=['accuracy']\n",
        "              )"
      ],
      "execution_count": 24,
      "outputs": []
    },
    {
      "cell_type": "code",
      "metadata": {
        "id": "dF5rZ74sS7EX",
        "colab": {
          "base_uri": "https://localhost:8080/"
        },
        "outputId": "37ade575-67f5-4d6a-b861-ad53011da7a4"
      },
      "source": [
        "trian_history = model.fit(x_img_test_normalize, \n",
        "                          y_label_test_OneHot,\n",
        "                          validation_split=0.2,\n",
        "                          epochs=50,\n",
        "                          batch_size=300,\n",
        "                          verbose=1\n",
        "                          )"
      ],
      "execution_count": 25,
      "outputs": [
        {
          "output_type": "stream",
          "text": [
            "Epoch 1/50\n",
            "27/27 [==============================] - 50s 135ms/step - loss: 2.2898 - accuracy: 0.1124 - val_loss: 2.2668 - val_accuracy: 0.1105\n",
            "Epoch 2/50\n",
            "27/27 [==============================] - 2s 77ms/step - loss: 2.0898 - accuracy: 0.2200 - val_loss: 2.1890 - val_accuracy: 0.1890\n",
            "Epoch 3/50\n",
            "27/27 [==============================] - 2s 77ms/step - loss: 1.9666 - accuracy: 0.2651 - val_loss: 2.2556 - val_accuracy: 0.1960\n",
            "Epoch 4/50\n",
            "27/27 [==============================] - 2s 78ms/step - loss: 1.8301 - accuracy: 0.3048 - val_loss: 2.1298 - val_accuracy: 0.2325\n",
            "Epoch 5/50\n",
            "27/27 [==============================] - 2s 77ms/step - loss: 1.7099 - accuracy: 0.3654 - val_loss: 1.7886 - val_accuracy: 0.3530\n",
            "Epoch 6/50\n",
            "27/27 [==============================] - 2s 78ms/step - loss: 1.5897 - accuracy: 0.4031 - val_loss: 1.8436 - val_accuracy: 0.3550\n",
            "Epoch 7/50\n",
            "27/27 [==============================] - 2s 79ms/step - loss: 1.5041 - accuracy: 0.4405 - val_loss: 1.7051 - val_accuracy: 0.4040\n",
            "Epoch 8/50\n",
            "27/27 [==============================] - 2s 78ms/step - loss: 1.4504 - accuracy: 0.4603 - val_loss: 1.6122 - val_accuracy: 0.4340\n",
            "Epoch 9/50\n",
            "27/27 [==============================] - 2s 78ms/step - loss: 1.3979 - accuracy: 0.4799 - val_loss: 1.6110 - val_accuracy: 0.4405\n",
            "Epoch 10/50\n",
            "27/27 [==============================] - 2s 78ms/step - loss: 1.3407 - accuracy: 0.5009 - val_loss: 1.4385 - val_accuracy: 0.4920\n",
            "Epoch 11/50\n",
            "27/27 [==============================] - 2s 78ms/step - loss: 1.2494 - accuracy: 0.5392 - val_loss: 1.4852 - val_accuracy: 0.4805\n",
            "Epoch 12/50\n",
            "27/27 [==============================] - 2s 77ms/step - loss: 1.1767 - accuracy: 0.5624 - val_loss: 1.4021 - val_accuracy: 0.4990\n",
            "Epoch 13/50\n",
            "27/27 [==============================] - 2s 77ms/step - loss: 1.1563 - accuracy: 0.5733 - val_loss: 1.3784 - val_accuracy: 0.5035\n",
            "Epoch 14/50\n",
            "27/27 [==============================] - 2s 78ms/step - loss: 1.0905 - accuracy: 0.5943 - val_loss: 1.3544 - val_accuracy: 0.5075\n",
            "Epoch 15/50\n",
            "27/27 [==============================] - 2s 78ms/step - loss: 1.0339 - accuracy: 0.6180 - val_loss: 1.3499 - val_accuracy: 0.5260\n",
            "Epoch 16/50\n",
            "27/27 [==============================] - 2s 77ms/step - loss: 0.9666 - accuracy: 0.6535 - val_loss: 1.3039 - val_accuracy: 0.5440\n",
            "Epoch 17/50\n",
            "27/27 [==============================] - 2s 78ms/step - loss: 0.9623 - accuracy: 0.6542 - val_loss: 1.3424 - val_accuracy: 0.5455\n",
            "Epoch 18/50\n",
            "27/27 [==============================] - 2s 78ms/step - loss: 0.8604 - accuracy: 0.6888 - val_loss: 1.2157 - val_accuracy: 0.5635\n",
            "Epoch 19/50\n",
            "27/27 [==============================] - 2s 78ms/step - loss: 0.8229 - accuracy: 0.7075 - val_loss: 1.2348 - val_accuracy: 0.5705\n",
            "Epoch 20/50\n",
            "27/27 [==============================] - 2s 77ms/step - loss: 0.7850 - accuracy: 0.7222 - val_loss: 1.2392 - val_accuracy: 0.5680\n",
            "Epoch 21/50\n",
            "27/27 [==============================] - 2s 78ms/step - loss: 0.7123 - accuracy: 0.7455 - val_loss: 1.2060 - val_accuracy: 0.5765\n",
            "Epoch 22/50\n",
            "27/27 [==============================] - 2s 78ms/step - loss: 0.6855 - accuracy: 0.7473 - val_loss: 1.2027 - val_accuracy: 0.5910\n",
            "Epoch 23/50\n",
            "27/27 [==============================] - 2s 79ms/step - loss: 0.6647 - accuracy: 0.7574 - val_loss: 1.1713 - val_accuracy: 0.5990\n",
            "Epoch 24/50\n",
            "27/27 [==============================] - 2s 79ms/step - loss: 0.6042 - accuracy: 0.7853 - val_loss: 1.2748 - val_accuracy: 0.5745\n",
            "Epoch 25/50\n",
            "27/27 [==============================] - 2s 79ms/step - loss: 0.5140 - accuracy: 0.8204 - val_loss: 1.3241 - val_accuracy: 0.5700\n",
            "Epoch 26/50\n",
            "27/27 [==============================] - 2s 78ms/step - loss: 0.4997 - accuracy: 0.8178 - val_loss: 1.2713 - val_accuracy: 0.5870\n",
            "Epoch 27/50\n",
            "27/27 [==============================] - 2s 78ms/step - loss: 0.4546 - accuracy: 0.8396 - val_loss: 1.3589 - val_accuracy: 0.5720\n",
            "Epoch 28/50\n",
            "27/27 [==============================] - 2s 79ms/step - loss: 0.4145 - accuracy: 0.8577 - val_loss: 1.3504 - val_accuracy: 0.5840\n",
            "Epoch 29/50\n",
            "27/27 [==============================] - 2s 78ms/step - loss: 0.3780 - accuracy: 0.8728 - val_loss: 1.3543 - val_accuracy: 0.6035\n",
            "Epoch 30/50\n",
            "27/27 [==============================] - 2s 78ms/step - loss: 0.3383 - accuracy: 0.8791 - val_loss: 1.4847 - val_accuracy: 0.5720\n",
            "Epoch 31/50\n",
            "27/27 [==============================] - 2s 77ms/step - loss: 0.3246 - accuracy: 0.8862 - val_loss: 1.5175 - val_accuracy: 0.5760\n",
            "Epoch 32/50\n",
            "27/27 [==============================] - 2s 77ms/step - loss: 0.2882 - accuracy: 0.8989 - val_loss: 1.4040 - val_accuracy: 0.5925\n",
            "Epoch 33/50\n",
            "27/27 [==============================] - 2s 78ms/step - loss: 0.2984 - accuracy: 0.8891 - val_loss: 1.4149 - val_accuracy: 0.5940\n",
            "Epoch 34/50\n",
            "27/27 [==============================] - 2s 79ms/step - loss: 0.2413 - accuracy: 0.9140 - val_loss: 1.5691 - val_accuracy: 0.5820\n",
            "Epoch 35/50\n",
            "27/27 [==============================] - 2s 79ms/step - loss: 0.2399 - accuracy: 0.9140 - val_loss: 1.4960 - val_accuracy: 0.5860\n",
            "Epoch 36/50\n",
            "27/27 [==============================] - 2s 79ms/step - loss: 0.2313 - accuracy: 0.9173 - val_loss: 1.5802 - val_accuracy: 0.5880\n",
            "Epoch 37/50\n",
            "27/27 [==============================] - 2s 77ms/step - loss: 0.2026 - accuracy: 0.9299 - val_loss: 1.5780 - val_accuracy: 0.5970\n",
            "Epoch 38/50\n",
            "27/27 [==============================] - 2s 78ms/step - loss: 0.2172 - accuracy: 0.9241 - val_loss: 1.5863 - val_accuracy: 0.5920\n",
            "Epoch 39/50\n",
            "27/27 [==============================] - 2s 78ms/step - loss: 0.1804 - accuracy: 0.9401 - val_loss: 1.6276 - val_accuracy: 0.5895\n",
            "Epoch 40/50\n",
            "27/27 [==============================] - 2s 79ms/step - loss: 0.2211 - accuracy: 0.9263 - val_loss: 1.5966 - val_accuracy: 0.5935\n",
            "Epoch 41/50\n",
            "27/27 [==============================] - 2s 78ms/step - loss: 0.1966 - accuracy: 0.9311 - val_loss: 1.5982 - val_accuracy: 0.5970\n",
            "Epoch 42/50\n",
            "27/27 [==============================] - 2s 77ms/step - loss: 0.1567 - accuracy: 0.9462 - val_loss: 1.7173 - val_accuracy: 0.5910\n",
            "Epoch 43/50\n",
            "27/27 [==============================] - 2s 78ms/step - loss: 0.1730 - accuracy: 0.9401 - val_loss: 1.6605 - val_accuracy: 0.5950\n",
            "Epoch 44/50\n",
            "27/27 [==============================] - 2s 78ms/step - loss: 0.1373 - accuracy: 0.9531 - val_loss: 1.6556 - val_accuracy: 0.6105\n",
            "Epoch 45/50\n",
            "27/27 [==============================] - 2s 79ms/step - loss: 0.1249 - accuracy: 0.9593 - val_loss: 1.7632 - val_accuracy: 0.5990\n",
            "Epoch 46/50\n",
            "27/27 [==============================] - 2s 78ms/step - loss: 0.1249 - accuracy: 0.9568 - val_loss: 1.7282 - val_accuracy: 0.6010\n",
            "Epoch 47/50\n",
            "27/27 [==============================] - 2s 79ms/step - loss: 0.1485 - accuracy: 0.9481 - val_loss: 1.7364 - val_accuracy: 0.5990\n",
            "Epoch 48/50\n",
            "27/27 [==============================] - 2s 78ms/step - loss: 0.1450 - accuracy: 0.9494 - val_loss: 1.7422 - val_accuracy: 0.5915\n",
            "Epoch 49/50\n",
            "27/27 [==============================] - 2s 79ms/step - loss: 0.1429 - accuracy: 0.9513 - val_loss: 1.6642 - val_accuracy: 0.5945\n",
            "Epoch 50/50\n",
            "27/27 [==============================] - 2s 78ms/step - loss: 0.1303 - accuracy: 0.9527 - val_loss: 1.7818 - val_accuracy: 0.5925\n"
          ],
          "name": "stdout"
        }
      ]
    },
    {
      "cell_type": "code",
      "metadata": {
        "id": "dbhmGcGQWk3y",
        "colab": {
          "base_uri": "https://localhost:8080/"
        },
        "outputId": "92483fc4-e142-4862-8d6c-746b3b96e1ef"
      },
      "source": [
        "#評估模型準確率\n",
        "scores = model.evaluate(x_img_test_normalize,\n",
        "                        y_label_test_OneHot,\n",
        "                        verbose=0)\n",
        "scores[1]"
      ],
      "execution_count": 26,
      "outputs": [
        {
          "output_type": "execute_result",
          "data": {
            "text/plain": [
              "0.9156000018119812"
            ]
          },
          "metadata": {
            "tags": []
          },
          "execution_count": 26
        }
      ]
    },
    {
      "cell_type": "code",
      "metadata": {
        "id": "HRrU3m8HXtCo"
      },
      "source": [
        "#分析訓練結果圖\n",
        "import matplotlib.pyplot as plt\n",
        "def show_train_history(show_train_value,test_value):\n",
        "    plt.plot(trian_history.history[show_train_value])\n",
        "    plt.plot(trian_history.history[test_value])\n",
        "    plt.title('Train History')\n",
        "    plt.ylabel(show_train_value)\n",
        "    plt.xlabel('Epoch')\n",
        "    plt.legend(['train', 'test'], loc='upper left')\n",
        "    plt.show()"
      ],
      "execution_count": 27,
      "outputs": []
    },
    {
      "cell_type": "code",
      "metadata": {
        "id": "pQ_qzxY4fvUs",
        "colab": {
          "base_uri": "https://localhost:8080/",
          "height": 573
        },
        "outputId": "31a4f7c5-b33b-4f20-f17d-4e7e4d9014e1"
      },
      "source": [
        "show_train_history('accuracy','val_accuracy')\n",
        "show_train_history('loss','val_loss')"
      ],
      "execution_count": 28,
      "outputs": [
        {
          "output_type": "display_data",
          "data": {
            "image/png": "[encoded data removed]",
            "text/plain": [
              "<Figure size 432x288 with 1 Axes>"
            ]
          },
          "metadata": {
            "tags": [],
            "needs_background": "light"
          }
        },
        {
          "output_type": "display_data",
          "data": {
            "image/png": "[encoded data removed]",
            "text/plain": [
              "<Figure size 432x288 with 1 Axes>"
            ]
          },
          "metadata": {
            "tags": [],
            "needs_background": "light"
          }
        }
      ]
    },
    {
      "cell_type": "code",
      "metadata": {
        "id": "oua05nqrfxRl",
        "colab": {
          "base_uri": "https://localhost:8080/"
        },
        "outputId": "efaf0b15-08a8-4f0a-fbb2-69a133576701"
      },
      "source": [
        "#使用model進行預測\n",
        "prediction =  model.predict_classes(x_img_test_normalize)"
      ],
      "execution_count": 29,
      "outputs": [
        {
          "output_type": "stream",
          "text": [
            "/usr/local/lib/python3.7/dist-packages/keras/engine/sequential.py:450: UserWarning: `model.predict_classes()` is deprecated and will be removed after 2021-01-01. Please use instead:* `np.argmax(model.predict(x), axis=-1)`,   if your model does multi-class classification   (e.g. if it uses a `softmax` last-layer activation).* `(model.predict(x) > 0.5).astype(\"int32\")`,   if your model does binary classification   (e.g. if it uses a `sigmoid` last-layer activation).\n",
            "  warnings.warn('`model.predict_classes()` is deprecated and '\n"
          ],
          "name": "stderr"
        }
      ]
    },
    {
      "cell_type": "code",
      "metadata": {
        "id": "BtUqnvnYhfBQ",
        "colab": {
          "base_uri": "https://localhost:8080/"
        },
        "outputId": "32dab05d-aa3c-475d-c6c1-8ed5c429a65f"
      },
      "source": [
        "prediction[0:10]"
      ],
      "execution_count": 30,
      "outputs": [
        {
          "output_type": "execute_result",
          "data": {
            "text/plain": [
              "array([3, 8, 8, 0, 6, 6, 1, 6, 3, 1])"
            ]
          },
          "metadata": {
            "tags": []
          },
          "execution_count": 30
        }
      ]
    },
    {
      "cell_type": "code",
      "metadata": {
        "id": "1FwsuXJ3hjRN"
      },
      "source": [
        "import matplotlib.pyplot as plt\n",
        "\n",
        "label_dict={0:\"airplane\",1:\"automobile\",2:\"bird\",3:\"cat\",4:\"deer\",\n",
        "            5:\"dog\",6:\"frog\",7:\"horse\",8:\"ship\",9:\"truck\"}\n",
        "\n",
        "def plot_images_labels_prediction(images,labels,prediction,\n",
        "                                  idx,num=10):\n",
        "    fig = plt.gcf()\n",
        "    fig.set_size_inches(12, 14)\n",
        "    if num>25: num=25 \n",
        "    for i in range(0, num):\n",
        "        ax=plt.subplot(5,5, 1+i)\n",
        "        ax.imshow(images[idx],cmap='binary')\n",
        "                \n",
        "        title=str(i)+','+label_dict[labels[i][0]]\n",
        "        if len(prediction)>0:\n",
        "            title+='=>'+label_dict[prediction[i]]\n",
        "            \n",
        "        ax.set_title(title,fontsize=10,color='red') \n",
        "        ax.set_xticks([]);ax.set_yticks([])        \n",
        "        idx+=1 \n",
        "    plt.show()"
      ],
      "execution_count": 31,
      "outputs": []
    },
    {
      "cell_type": "code",
      "metadata": {
        "id": "F7VBldJohlr6",
        "colab": {
          "base_uri": "https://localhost:8080/",
          "height": 321
        },
        "outputId": "2c822638-010d-4649-8243-144a7f7371fe"
      },
      "source": [
        "plot_images_labels_prediction(x_img_test,y_label_test,prediction,0, 10)"
      ],
      "execution_count": 32,
      "outputs": [
        {
          "output_type": "display_data",
          "data": {
            "image/png": "[encoded data removed]",
            "text/plain": [
              "<Figure size 864x1008 with 10 Axes>"
            ]
          },
          "metadata": {
            "tags": []
          }
        }
      ]
    },
    {
      "cell_type": "code",
      "metadata": {
        "id": "AwBEmyqDlvZm"
      },
      "source": [
        "Predicted_Probability = model.predict(x_img_test_normalize)"
      ],
      "execution_count": 33,
      "outputs": []
    },
    {
      "cell_type": "code",
      "metadata": {
        "id": "cemoJAcYlxYP"
      },
      "source": [
        "#cifar 查看預測機率\n",
        "def show_Predicted_Probability(y,prediction,\n",
        "                               x_img,Predicted_Probability,i):\n",
        "    print('label:',label_dict[y[i][0]],\n",
        "          'predict:',label_dict[prediction[i]])\n",
        "    plt.figure(figsize=(2,2))\n",
        "    plt.imshow(np.reshape(x_img_test[i],(32, 32,3)))\n",
        "    plt.show()\n",
        "    for j in range(10):\n",
        "        print(label_dict[j]+\n",
        "              ' Probability:%1.9f'%(Predicted_Probability[i][j]))"
      ],
      "execution_count": 34,
      "outputs": []
    },
    {
      "cell_type": "code",
      "metadata": {
        "id": "RtOcTOzOl3F3",
        "colab": {
          "base_uri": "https://localhost:8080/",
          "height": 346
        },
        "outputId": "29a0cb41-82c0-482e-bde0-86e60ce0d0af"
      },
      "source": [
        "show_Predicted_Probability(y_label_test,prediction,x_img_test,Predicted_Probability,1002)"
      ],
      "execution_count": 35,
      "outputs": [
        {
          "output_type": "stream",
          "text": [
            "label: ship predict: ship\n"
          ],
          "name": "stdout"
        },
        {
          "output_type": "display_data",
          "data": {
            "image/png": "[encoded data removed]",
            "text/plain": [
              "<Figure size 144x144 with 1 Axes>"
            ]
          },
          "metadata": {
            "tags": [],
            "needs_background": "light"
          }
        },
        {
          "output_type": "stream",
          "text": [
            "airplane Probability:0.000002038\n",
            "automobile Probability:0.000026816\n",
            "bird Probability:0.000001335\n",
            "cat Probability:0.000009763\n",
            "deer Probability:0.000000017\n",
            "dog Probability:0.000000074\n",
            "frog Probability:0.000000216\n",
            "horse Probability:0.000000001\n",
            "ship Probability:0.999930501\n",
            "truck Probability:0.000029218\n"
          ],
          "name": "stdout"
        }
      ]
    },
    {
      "cell_type": "code",
      "metadata": {
        "id": "SZHQzbJMA0cU",
        "colab": {
          "base_uri": "https://localhost:8080/",
          "height": 346
        },
        "outputId": "ae27124f-73a1-4d8f-eb37-5a7163cb92a5"
      },
      "source": [
        "show_Predicted_Probability(y_label_test,prediction,x_img_test,Predicted_Probability,3)"
      ],
      "execution_count": 36,
      "outputs": [
        {
          "output_type": "stream",
          "text": [
            "label: airplane predict: airplane\n"
          ],
          "name": "stdout"
        },
        {
          "output_type": "display_data",
          "data": {
            "image/png": "[encoded data removed]",
            "text/plain": [
              "<Figure size 144x144 with 1 Axes>"
            ]
          },
          "metadata": {
            "tags": [],
            "needs_background": "light"
          }
        },
        {
          "output_type": "stream",
          "text": [
            "airplane Probability:0.922051907\n",
            "automobile Probability:0.000005289\n",
            "bird Probability:0.000591852\n",
            "cat Probability:0.000003296\n",
            "deer Probability:0.000039383\n",
            "dog Probability:0.000001683\n",
            "frog Probability:0.000000153\n",
            "horse Probability:0.000000114\n",
            "ship Probability:0.077288099\n",
            "truck Probability:0.000018187\n"
          ],
          "name": "stdout"
        }
      ]
    },
    {
      "cell_type": "markdown",
      "metadata": {
        "id": "20Tz9wB9A3aE"
      },
      "source": [
        "混淆矩陣"
      ]
    },
    {
      "cell_type": "code",
      "metadata": {
        "id": "dzTZsvpJA7ik",
        "colab": {
          "base_uri": "https://localhost:8080/"
        },
        "outputId": "7910e7c1-a5e2-49ce-abb4-5a0efc053a48"
      },
      "source": [
        "prediction.shape"
      ],
      "execution_count": 37,
      "outputs": [
        {
          "output_type": "execute_result",
          "data": {
            "text/plain": [
              "(10000,)"
            ]
          },
          "metadata": {
            "tags": []
          },
          "execution_count": 37
        }
      ]
    },
    {
      "cell_type": "code",
      "metadata": {
        "id": "jhOuV_hfBAcC",
        "colab": {
          "base_uri": "https://localhost:8080/"
        },
        "outputId": "9db623fb-19e5-4e17-8396-bc15b1328b8a"
      },
      "source": [
        "y_label_test.shape"
      ],
      "execution_count": 38,
      "outputs": [
        {
          "output_type": "execute_result",
          "data": {
            "text/plain": [
              "(10000, 1)"
            ]
          },
          "metadata": {
            "tags": []
          },
          "execution_count": 38
        }
      ]
    },
    {
      "cell_type": "code",
      "metadata": {
        "id": "2Mt31gIQBD27",
        "colab": {
          "base_uri": "https://localhost:8080/"
        },
        "outputId": "9e18f917-3a32-4344-ec46-122b0f849988"
      },
      "source": [
        "#轉換成一維陣列\n",
        "y_label_test.reshape(-1)"
      ],
      "execution_count": 39,
      "outputs": [
        {
          "output_type": "execute_result",
          "data": {
            "text/plain": [
              "array([3, 8, 8, ..., 5, 1, 7], dtype=uint8)"
            ]
          },
          "metadata": {
            "tags": []
          },
          "execution_count": 39
        }
      ]
    },
    {
      "cell_type": "code",
      "metadata": {
        "id": "y2jMWGd6BNcW",
        "colab": {
          "base_uri": "https://localhost:8080/",
          "height": 407
        },
        "outputId": "3d65d681-2a4f-42b3-abaa-225fb3b8b2eb"
      },
      "source": [
        "import pandas as pd\n",
        "print(label_dict)\n",
        "pd.crosstab(y_label_test.reshape(-1), prediction, rownames=['label'], colnames=['predict'])"
      ],
      "execution_count": 40,
      "outputs": [
        {
          "output_type": "stream",
          "text": [
            "{0: 'airplane', 1: 'automobile', 2: 'bird', 3: 'cat', 4: 'deer', 5: 'dog', 6: 'frog', 7: 'horse', 8: 'ship', 9: 'truck'}\n"
          ],
          "name": "stdout"
        },
        {
          "output_type": "execute_result",
          "data": {
            "text/html": [
              "<div>\n",
              "<style scoped>\n",
              "    .dataframe tbody tr th:only-of-type {\n",
              "        vertical-align: middle;\n",
              "    }\n",
              "\n",
              "    .dataframe tbody tr th {\n",
              "        vertical-align: top;\n",
              "    }\n",
              "\n",
              "    .dataframe thead th {\n",
              "        text-align: right;\n",
              "    }\n",
              "</style>\n",
              "<table border=\"1\" class=\"dataframe\">\n",
              "  <thead>\n",
              "    <tr style=\"text-align: right;\">\n",
              "      <th>predict</th>\n",
              "      <th>0</th>\n",
              "      <th>1</th>\n",
              "      <th>2</th>\n",
              "      <th>3</th>\n",
              "      <th>4</th>\n",
              "      <th>5</th>\n",
              "      <th>6</th>\n",
              "      <th>7</th>\n",
              "      <th>8</th>\n",
              "      <th>9</th>\n",
              "    </tr>\n",
              "    <tr>\n",
              "      <th>label</th>\n",
              "      <th></th>\n",
              "      <th></th>\n",
              "      <th></th>\n",
              "      <th></th>\n",
              "      <th></th>\n",
              "      <th></th>\n",
              "      <th></th>\n",
              "      <th></th>\n",
              "      <th></th>\n",
              "      <th></th>\n",
              "    </tr>\n",
              "  </thead>\n",
              "  <tbody>\n",
              "    <tr>\n",
              "      <th>0</th>\n",
              "      <td>925</td>\n",
              "      <td>7</td>\n",
              "      <td>6</td>\n",
              "      <td>8</td>\n",
              "      <td>4</td>\n",
              "      <td>5</td>\n",
              "      <td>0</td>\n",
              "      <td>2</td>\n",
              "      <td>39</td>\n",
              "      <td>4</td>\n",
              "    </tr>\n",
              "    <tr>\n",
              "      <th>1</th>\n",
              "      <td>4</td>\n",
              "      <td>947</td>\n",
              "      <td>2</td>\n",
              "      <td>10</td>\n",
              "      <td>3</td>\n",
              "      <td>3</td>\n",
              "      <td>5</td>\n",
              "      <td>0</td>\n",
              "      <td>6</td>\n",
              "      <td>20</td>\n",
              "    </tr>\n",
              "    <tr>\n",
              "      <th>2</th>\n",
              "      <td>16</td>\n",
              "      <td>0</td>\n",
              "      <td>898</td>\n",
              "      <td>31</td>\n",
              "      <td>31</td>\n",
              "      <td>9</td>\n",
              "      <td>12</td>\n",
              "      <td>3</td>\n",
              "      <td>0</td>\n",
              "      <td>0</td>\n",
              "    </tr>\n",
              "    <tr>\n",
              "      <th>3</th>\n",
              "      <td>1</td>\n",
              "      <td>3</td>\n",
              "      <td>20</td>\n",
              "      <td>894</td>\n",
              "      <td>14</td>\n",
              "      <td>38</td>\n",
              "      <td>19</td>\n",
              "      <td>8</td>\n",
              "      <td>1</td>\n",
              "      <td>2</td>\n",
              "    </tr>\n",
              "    <tr>\n",
              "      <th>4</th>\n",
              "      <td>4</td>\n",
              "      <td>0</td>\n",
              "      <td>32</td>\n",
              "      <td>14</td>\n",
              "      <td>915</td>\n",
              "      <td>12</td>\n",
              "      <td>8</td>\n",
              "      <td>12</td>\n",
              "      <td>2</td>\n",
              "      <td>1</td>\n",
              "    </tr>\n",
              "    <tr>\n",
              "      <th>5</th>\n",
              "      <td>0</td>\n",
              "      <td>0</td>\n",
              "      <td>19</td>\n",
              "      <td>50</td>\n",
              "      <td>11</td>\n",
              "      <td>903</td>\n",
              "      <td>7</td>\n",
              "      <td>7</td>\n",
              "      <td>1</td>\n",
              "      <td>2</td>\n",
              "    </tr>\n",
              "    <tr>\n",
              "      <th>6</th>\n",
              "      <td>1</td>\n",
              "      <td>1</td>\n",
              "      <td>16</td>\n",
              "      <td>22</td>\n",
              "      <td>24</td>\n",
              "      <td>8</td>\n",
              "      <td>915</td>\n",
              "      <td>6</td>\n",
              "      <td>4</td>\n",
              "      <td>3</td>\n",
              "    </tr>\n",
              "    <tr>\n",
              "      <th>7</th>\n",
              "      <td>4</td>\n",
              "      <td>0</td>\n",
              "      <td>17</td>\n",
              "      <td>16</td>\n",
              "      <td>29</td>\n",
              "      <td>18</td>\n",
              "      <td>3</td>\n",
              "      <td>905</td>\n",
              "      <td>6</td>\n",
              "      <td>2</td>\n",
              "    </tr>\n",
              "    <tr>\n",
              "      <th>8</th>\n",
              "      <td>11</td>\n",
              "      <td>12</td>\n",
              "      <td>3</td>\n",
              "      <td>8</td>\n",
              "      <td>7</td>\n",
              "      <td>6</td>\n",
              "      <td>4</td>\n",
              "      <td>0</td>\n",
              "      <td>945</td>\n",
              "      <td>4</td>\n",
              "    </tr>\n",
              "    <tr>\n",
              "      <th>9</th>\n",
              "      <td>14</td>\n",
              "      <td>38</td>\n",
              "      <td>2</td>\n",
              "      <td>12</td>\n",
              "      <td>5</td>\n",
              "      <td>5</td>\n",
              "      <td>3</td>\n",
              "      <td>4</td>\n",
              "      <td>8</td>\n",
              "      <td>909</td>\n",
              "    </tr>\n",
              "  </tbody>\n",
              "</table>\n",
              "</div>"
            ],
            "text/plain": [
              "predict    0    1    2    3    4    5    6    7    8    9\n",
              "label                                                    \n",
              "0        925    7    6    8    4    5    0    2   39    4\n",
              "1          4  947    2   10    3    3    5    0    6   20\n",
              "2         16    0  898   31   31    9   12    3    0    0\n",
              "3          1    3   20  894   14   38   19    8    1    2\n",
              "4          4    0   32   14  915   12    8   12    2    1\n",
              "5          0    0   19   50   11  903    7    7    1    2\n",
              "6          1    1   16   22   24    8  915    6    4    3\n",
              "7          4    0   17   16   29   18    3  905    6    2\n",
              "8         11   12    3    8    7    6    4    0  945    4\n",
              "9         14   38    2   12    5    5    3    4    8  909"
            ]
          },
          "metadata": {
            "tags": []
          },
          "execution_count": 40
        }
      ]
    }
  ]
}