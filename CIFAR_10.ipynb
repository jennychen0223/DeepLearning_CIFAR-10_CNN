{
  "nbformat": 4,
  "nbformat_minor": 0,
  "metadata": {
    "colab": {
      "name": "CIFAR-10.ipynb",
      "provenance": [],
      "collapsed_sections": [],
      "authorship_tag": "ABX9TyN0XeJ7Ooq0449YrDL0wFr4",
      "include_colab_link": true
    },
    "kernelspec": {
      "name": "python3",
      "display_name": "Python 3"
    },
    "language_info": {
      "name": "python"
    },
    "accelerator": "GPU"
  },
  "cells": [
    {
      "cell_type": "markdown",
      "metadata": {
        "id": "view-in-github",
        "colab_type": "text"
      },
      "source": [
        "<a href=\"https://colab.research.google.com/github/jennychen0223/DeepLearning_CIFAR-10_CNN/blob/main/CIFAR_10.ipynb\" target=\"_parent\"><img src=\"https://colab.research.google.com/assets/colab-badge.svg\" alt=\"Open In Colab\"/></a>"
      ]
    },
    {
      "cell_type": "code",
      "metadata": {
        "id": "yQpKzDRkNtBJ"
      },
      "source": [
        "from keras.datasets import cifar10\n",
        "import numpy as np\n",
        "import tensorflow as tf\n",
        "import matplotlib.pyplot as plt\n"
      ],
      "execution_count": null,
      "outputs": []
    },
    {
      "cell_type": "code",
      "metadata": {
        "id": "gsUyhVliOVYx",
        "colab": {
          "base_uri": "https://localhost:8080/"
        },
        "outputId": "7506e40b-7ee1-4446-993d-45745850f27d"
      },
      "source": [
        "print(tf.__version__)"
      ],
      "execution_count": null,
      "outputs": [
        {
          "output_type": "stream",
          "text": [
            "2.5.0\n"
          ],
          "name": "stdout"
        }
      ]
    },
    {
      "cell_type": "code",
      "metadata": {
        "id": "F1hwiZkDOs1x",
        "colab": {
          "base_uri": "https://localhost:8080/"
        },
        "outputId": "0704a860-b1b8-4c36-a0f6-627054a858aa"
      },
      "source": [
        "(x_img_train,y_label_train),(x_img_test,y_label_test) = cifar10.load_data()"
      ],
      "execution_count": null,
      "outputs": [
        {
          "output_type": "stream",
          "text": [
            "Downloading data from https://www.cs.toronto.edu/~kriz/cifar-10-python.tar.gz\n",
            "170500096/170498071 [==============================] - 4s 0us/step\n",
            "170508288/170498071 [==============================] - 4s 0us/step\n"
          ],
          "name": "stdout"
        }
      ]
    },
    {
      "cell_type": "code",
      "metadata": {
        "id": "OPBvLtHIOx_O",
        "colab": {
          "base_uri": "https://localhost:8080/"
        },
        "outputId": "d6505b5f-a42b-4496-9ddb-3e22c7d33305"
      },
      "source": [
        "print('train:', len(x_img_train))\n",
        "print('test:', len(x_img_test))"
      ],
      "execution_count": null,
      "outputs": [
        {
          "output_type": "stream",
          "text": [
            "train: 50000\n",
            "test: 10000\n"
          ],
          "name": "stdout"
        }
      ]
    },
    {
      "cell_type": "code",
      "metadata": {
        "id": "-N1IxcidO0ck",
        "colab": {
          "base_uri": "https://localhost:8080/"
        },
        "outputId": "769d6698-51b3-43b4-b271-d87f5d6b5252"
      },
      "source": [
        "x_img_train.shape"
      ],
      "execution_count": null,
      "outputs": [
        {
          "output_type": "execute_result",
          "data": {
            "text/plain": [
              "(50000, 32, 32, 3)"
            ]
          },
          "metadata": {
            "tags": []
          },
          "execution_count": 5
        }
      ]
    },
    {
      "cell_type": "code",
      "metadata": {
        "id": "7tjOmYUi9wsX",
        "colab": {
          "base_uri": "https://localhost:8080/"
        },
        "outputId": "bab34497-763f-4c5d-83a0-62e0212be561"
      },
      "source": [
        "x_img_test[0]"
      ],
      "execution_count": null,
      "outputs": [
        {
          "output_type": "execute_result",
          "data": {
            "text/plain": [
              "array([[[158, 112,  49],\n",
              "        [159, 111,  47],\n",
              "        [165, 116,  51],\n",
              "        ...,\n",
              "        [137,  95,  36],\n",
              "        [126,  91,  36],\n",
              "        [116,  85,  33]],\n",
              "\n",
              "       [[152, 112,  51],\n",
              "        [151, 110,  40],\n",
              "        [159, 114,  45],\n",
              "        ...,\n",
              "        [136,  95,  31],\n",
              "        [125,  91,  32],\n",
              "        [119,  88,  34]],\n",
              "\n",
              "       [[151, 110,  47],\n",
              "        [151, 109,  33],\n",
              "        [158, 111,  36],\n",
              "        ...,\n",
              "        [139,  98,  34],\n",
              "        [130,  95,  34],\n",
              "        [120,  89,  33]],\n",
              "\n",
              "       ...,\n",
              "\n",
              "       [[ 68, 124, 177],\n",
              "        [ 42, 100, 148],\n",
              "        [ 31,  88, 137],\n",
              "        ...,\n",
              "        [ 38,  97, 146],\n",
              "        [ 13,  64, 108],\n",
              "        [ 40,  85, 127]],\n",
              "\n",
              "       [[ 61, 116, 168],\n",
              "        [ 49, 102, 148],\n",
              "        [ 35,  85, 132],\n",
              "        ...,\n",
              "        [ 26,  82, 130],\n",
              "        [ 29,  82, 126],\n",
              "        [ 20,  64, 107]],\n",
              "\n",
              "       [[ 54, 107, 160],\n",
              "        [ 56, 105, 149],\n",
              "        [ 45,  89, 132],\n",
              "        ...,\n",
              "        [ 24,  77, 124],\n",
              "        [ 34,  84, 129],\n",
              "        [ 21,  67, 110]]], dtype=uint8)"
            ]
          },
          "metadata": {
            "tags": []
          },
          "execution_count": 6
        }
      ]
    },
    {
      "cell_type": "code",
      "metadata": {
        "id": "IrFzcEuv9zwV",
        "colab": {
          "base_uri": "https://localhost:8080/"
        },
        "outputId": "9c1e9e8d-41ac-42b4-bbfc-bb2a01370fa0"
      },
      "source": [
        "y_label_train.shape"
      ],
      "execution_count": null,
      "outputs": [
        {
          "output_type": "execute_result",
          "data": {
            "text/plain": [
              "(50000, 1)"
            ]
          },
          "metadata": {
            "tags": []
          },
          "execution_count": 7
        }
      ]
    },
    {
      "cell_type": "code",
      "metadata": {
        "id": "zhb8P-ur-E2C"
      },
      "source": [
        "label_dict = {0:'airplane',\n",
        "              1:'automobile',\n",
        "              2:'bird',\n",
        "              3:'cat',\n",
        "              4:'deet',\n",
        "              5:'dog',\n",
        "              6:'frog',\n",
        "              7:'horse',\n",
        "              8:'ship',\n",
        "              9:'truck'}"
      ],
      "execution_count": null,
      "outputs": []
    },
    {
      "cell_type": "code",
      "metadata": {
        "id": "fXF9XMo5-aOD"
      },
      "source": [
        "def show_images_labels_predictions(images, labels, predictions, start_id, num=10):\n",
        "  plt.gcf().set_size_inches(12, 14)\n",
        "\n",
        "  if num>25: num=25\n",
        "  for i in range(0, num):\n",
        "    ax = plt.subplot(5,5,i+1)\n",
        "    #顯示黑白圖片\n",
        "    ax.imshow(images[start_id], cmap = 'binary')\n",
        "    title = str(i) + ','+ label_dict[labels[i][0]]\n",
        "\n",
        "    #有預測結果資料，才顯示結果\n",
        "    if (len(predictions) > 0):\n",
        "      title += '=>' + label_dict[predictions[i]]\n",
        "                                 \n",
        "    ax.set_title(title, fontsize=12)\n",
        "    ax.set_xticks([]); ax.set_yticks([])\n",
        "    start_id += 1\n",
        "  plt.show()"
      ],
      "execution_count": null,
      "outputs": []
    },
    {
      "cell_type": "markdown",
      "metadata": {
        "id": "DZ7kDSX1_QPT"
      },
      "source": [
        "預處理"
      ]
    },
    {
      "cell_type": "code",
      "metadata": {
        "id": "JQmIlP3ePP6m",
        "colab": {
          "base_uri": "https://localhost:8080/"
        },
        "outputId": "6ea8fef6-eb74-4549-f402-cf1a4a5e689b"
      },
      "source": [
        "x_img_train[0][0][0]"
      ],
      "execution_count": null,
      "outputs": [
        {
          "output_type": "execute_result",
          "data": {
            "text/plain": [
              "array([59, 62, 63], dtype=uint8)"
            ]
          },
          "metadata": {
            "tags": []
          },
          "execution_count": 12
        }
      ]
    },
    {
      "cell_type": "code",
      "metadata": {
        "id": "98R6wxOnPxB-"
      },
      "source": [
        "x_img_train_normalize = x_img_train/255\n",
        "x_img_test_normalize = x_img_test/255"
      ],
      "execution_count": null,
      "outputs": []
    },
    {
      "cell_type": "code",
      "metadata": {
        "id": "q3E5LpUMP6Xx",
        "colab": {
          "base_uri": "https://localhost:8080/"
        },
        "outputId": "edf3334a-e1f2-4c95-f26a-18d93539d639"
      },
      "source": [
        "x_img_train_normalize[0][0][0]"
      ],
      "execution_count": null,
      "outputs": [
        {
          "output_type": "execute_result",
          "data": {
            "text/plain": [
              "array([0.23137255, 0.24313725, 0.24705882])"
            ]
          },
          "metadata": {
            "tags": []
          },
          "execution_count": 14
        }
      ]
    },
    {
      "cell_type": "code",
      "metadata": {
        "id": "iJKb61fJQM7-",
        "colab": {
          "base_uri": "https://localhost:8080/"
        },
        "outputId": "6589bfa4-c9fd-4dac-c9c9-40795a930fd3"
      },
      "source": [
        "y_label_train.shape"
      ],
      "execution_count": null,
      "outputs": [
        {
          "output_type": "execute_result",
          "data": {
            "text/plain": [
              "(50000, 1)"
            ]
          },
          "metadata": {
            "tags": []
          },
          "execution_count": 15
        }
      ]
    },
    {
      "cell_type": "code",
      "metadata": {
        "id": "y7sjJ4nN_k5A",
        "colab": {
          "base_uri": "https://localhost:8080/"
        },
        "outputId": "f177c178-0546-432d-ac06-526a7b182ab6"
      },
      "source": [
        "y_label_train[:5]"
      ],
      "execution_count": null,
      "outputs": [
        {
          "output_type": "execute_result",
          "data": {
            "text/plain": [
              "array([[6],\n",
              "       [9],\n",
              "       [9],\n",
              "       [4],\n",
              "       [1]], dtype=uint8)"
            ]
          },
          "metadata": {
            "tags": []
          },
          "execution_count": 16
        }
      ]
    },
    {
      "cell_type": "code",
      "metadata": {
        "id": "OosBvjFwQQbV"
      },
      "source": [
        "from keras.utils import np_utils"
      ],
      "execution_count": null,
      "outputs": []
    },
    {
      "cell_type": "code",
      "metadata": {
        "id": "0wNZyqXsQqNC"
      },
      "source": [
        "y_label_train_OneHot = np_utils.to_categorical(y_label_train)\n",
        "y_label_test_OneHot = np_utils.to_categorical(y_label_test)\n"
      ],
      "execution_count": null,
      "outputs": []
    },
    {
      "cell_type": "code",
      "metadata": {
        "id": "TtBOAbDz_rO9",
        "colab": {
          "base_uri": "https://localhost:8080/"
        },
        "outputId": "77db82e9-73c5-4426-c51e-15d362e60d99"
      },
      "source": [
        "y_label_train_OneHot.shape"
      ],
      "execution_count": null,
      "outputs": [
        {
          "output_type": "execute_result",
          "data": {
            "text/plain": [
              "(50000, 10)"
            ]
          },
          "metadata": {
            "tags": []
          },
          "execution_count": 19
        }
      ]
    },
    {
      "cell_type": "code",
      "metadata": {
        "id": "URMw9KfdQxiD",
        "colab": {
          "base_uri": "https://localhost:8080/"
        },
        "outputId": "76cb33ce-40e2-42f9-e3aa-cb94c6d710ed"
      },
      "source": [
        "y_label_train_OneHot[:5]"
      ],
      "execution_count": null,
      "outputs": [
        {
          "output_type": "execute_result",
          "data": {
            "text/plain": [
              "array([[0., 0., 0., 0., 0., 0., 1., 0., 0., 0.],\n",
              "       [0., 0., 0., 0., 0., 0., 0., 0., 0., 1.],\n",
              "       [0., 0., 0., 0., 0., 0., 0., 0., 0., 1.],\n",
              "       [0., 0., 0., 0., 1., 0., 0., 0., 0., 0.],\n",
              "       [0., 1., 0., 0., 0., 0., 0., 0., 0., 0.]], dtype=float32)"
            ]
          },
          "metadata": {
            "tags": []
          },
          "execution_count": 20
        }
      ]
    },
    {
      "cell_type": "code",
      "metadata": {
        "id": "f510Zc1nRCoO"
      },
      "source": [
        "from keras.models import Sequential, Model\n",
        "from keras.layers import Dense, Dropout, Activation, Flatten\n",
        "from keras.layers import Conv2D, MaxPooling2D, ZeroPadding2D"
      ],
      "execution_count": null,
      "outputs": []
    },
    {
      "cell_type": "code",
      "metadata": {
        "id": "0M0ajgBPSALo"
      },
      "source": [
        "model = Sequential()\n",
        "model.add(Conv2D(filters=32,\n",
        "                 kernel_size=(3,3),\n",
        "                 activation='relu',\n",
        "                 padding='same',\n",
        "                 input_shape=(32, 32, 3)                \n",
        "                 ))"
      ],
      "execution_count": null,
      "outputs": []
    },
    {
      "cell_type": "code",
      "metadata": {
        "id": "DLpicBRoS_Tt"
      },
      "source": [
        "model.add(Dropout(rate=0.25))\n",
        "model.add(MaxPooling2D(pool_size=(2,2)))\n"
      ],
      "execution_count": null,
      "outputs": []
    },
    {
      "cell_type": "code",
      "metadata": {
        "id": "-QeFCnOUTl1W"
      },
      "source": [
        "#卷積層2與池化層2\n",
        "model.add(Conv2D(filters=64,\n",
        "                 kernel_size=(3,3),\n",
        "                 activation='relu',\n",
        "                 padding='same'\n",
        "                 ))\n",
        "model.add(Dropout(rate=0.25))\n",
        "model.add(MaxPooling2D(pool_size=(2,2)))"
      ],
      "execution_count": null,
      "outputs": []
    },
    {
      "cell_type": "code",
      "metadata": {
        "id": "Hv7e7eJdUq3D"
      },
      "source": [
        "#建立神經網路（平坦層、隱藏層、輸出層）\n",
        "model.add(Flatten())\n",
        "model.add(Dropout(rate=0.25))\n",
        "\n",
        "model.add(Dense(1024, activation='relu'))\n",
        "model.add(Dropout(rate=0.25))\n",
        "\n",
        "model.add(Dense(10, activation='softmax'))\n"
      ],
      "execution_count": null,
      "outputs": []
    },
    {
      "cell_type": "code",
      "metadata": {
        "id": "1RdiIgnsZbgY",
        "colab": {
          "base_uri": "https://localhost:8080/"
        },
        "outputId": "9c07e0ae-b248-4790-84e3-0cb51aeb90c3"
      },
      "source": [
        "print(model.summary())"
      ],
      "execution_count": null,
      "outputs": [
        {
          "output_type": "stream",
          "text": [
            "Model: \"sequential\"\n",
            "_________________________________________________________________\n",
            "Layer (type)                 Output Shape              Param #   \n",
            "=================================================================\n",
            "conv2d (Conv2D)              (None, 32, 32, 32)        896       \n",
            "_________________________________________________________________\n",
            "dropout (Dropout)            (None, 32, 32, 32)        0         \n",
            "_________________________________________________________________\n",
            "max_pooling2d (MaxPooling2D) (None, 16, 16, 32)        0         \n",
            "_________________________________________________________________\n",
            "conv2d_1 (Conv2D)            (None, 16, 16, 64)        18496     \n",
            "_________________________________________________________________\n",
            "dropout_1 (Dropout)          (None, 16, 16, 64)        0         \n",
            "_________________________________________________________________\n",
            "max_pooling2d_1 (MaxPooling2 (None, 8, 8, 64)          0         \n",
            "_________________________________________________________________\n",
            "flatten (Flatten)            (None, 4096)              0         \n",
            "_________________________________________________________________\n",
            "dropout_2 (Dropout)          (None, 4096)              0         \n",
            "_________________________________________________________________\n",
            "dense (Dense)                (None, 1024)              4195328   \n",
            "_________________________________________________________________\n",
            "dropout_3 (Dropout)          (None, 1024)              0         \n",
            "_________________________________________________________________\n",
            "dense_1 (Dense)              (None, 10)                10250     \n",
            "=================================================================\n",
            "Total params: 4,224,970\n",
            "Trainable params: 4,224,970\n",
            "Non-trainable params: 0\n",
            "_________________________________________________________________\n",
            "None\n"
          ],
          "name": "stdout"
        }
      ]
    },
    {
      "cell_type": "code",
      "metadata": {
        "id": "0c7y43xiT5pR"
      },
      "source": [
        "model.compile(loss='categorical_crossentropy',\n",
        "              optimizer='adam',\n",
        "              metrics=['accuracy']\n",
        "              )"
      ],
      "execution_count": null,
      "outputs": []
    },
    {
      "cell_type": "code",
      "metadata": {
        "id": "dF5rZ74sS7EX",
        "colab": {
          "base_uri": "https://localhost:8080/"
        },
        "outputId": "ca3ced91-8af3-40db-cb00-8fb4fc143ee3"
      },
      "source": [
        "trian_history = model.fit(x_img_test_normalize, \n",
        "                          y_label_test_OneHot,\n",
        "                          validation_split=0.2,\n",
        "                          epochs=10,\n",
        "                          batch_size=128,\n",
        "                          verbose=1\n",
        "                          )"
      ],
      "execution_count": null,
      "outputs": [
        {
          "output_type": "stream",
          "text": [
            "Epoch 1/10\n",
            "63/63 [==============================] - 46s 24ms/step - loss: 2.2114 - accuracy: 0.2119 - val_loss: 1.7569 - val_accuracy: 0.3880\n",
            "Epoch 2/10\n",
            "63/63 [==============================] - 1s 11ms/step - loss: 1.6178 - accuracy: 0.4162 - val_loss: 1.6227 - val_accuracy: 0.4340\n",
            "Epoch 3/10\n",
            "63/63 [==============================] - 1s 11ms/step - loss: 1.4477 - accuracy: 0.4846 - val_loss: 1.4816 - val_accuracy: 0.4995\n",
            "Epoch 4/10\n",
            "63/63 [==============================] - 1s 11ms/step - loss: 1.3152 - accuracy: 0.5302 - val_loss: 1.4176 - val_accuracy: 0.5065\n",
            "Epoch 5/10\n",
            "63/63 [==============================] - 1s 11ms/step - loss: 1.1803 - accuracy: 0.5798 - val_loss: 1.3572 - val_accuracy: 0.5240\n",
            "Epoch 6/10\n",
            "63/63 [==============================] - 1s 11ms/step - loss: 1.0993 - accuracy: 0.6106 - val_loss: 1.3779 - val_accuracy: 0.5215\n",
            "Epoch 7/10\n",
            "63/63 [==============================] - 1s 10ms/step - loss: 1.0490 - accuracy: 0.6311 - val_loss: 1.2795 - val_accuracy: 0.5700\n",
            "Epoch 8/10\n",
            "63/63 [==============================] - 1s 10ms/step - loss: 0.9423 - accuracy: 0.6743 - val_loss: 1.2374 - val_accuracy: 0.5810\n",
            "Epoch 9/10\n",
            "63/63 [==============================] - 1s 11ms/step - loss: 0.8687 - accuracy: 0.6919 - val_loss: 1.2773 - val_accuracy: 0.5395\n",
            "Epoch 10/10\n",
            "63/63 [==============================] - 1s 11ms/step - loss: 0.7788 - accuracy: 0.7281 - val_loss: 1.1855 - val_accuracy: 0.5800\n"
          ],
          "name": "stdout"
        }
      ]
    },
    {
      "cell_type": "code",
      "metadata": {
        "id": "dbhmGcGQWk3y",
        "colab": {
          "base_uri": "https://localhost:8080/"
        },
        "outputId": "0791b5ae-2e42-4c21-b313-94bebafc6a56"
      },
      "source": [
        "#評估模型準確率\n",
        "scores = model.evaluate(x_img_test_normalize,\n",
        "                        y_label_test_OneHot,\n",
        "                        verbose=0)\n",
        "scores[1]"
      ],
      "execution_count": null,
      "outputs": [
        {
          "output_type": "execute_result",
          "data": {
            "text/plain": [
              "0.7580000162124634"
            ]
          },
          "metadata": {
            "tags": []
          },
          "execution_count": 29
        }
      ]
    },
    {
      "cell_type": "code",
      "metadata": {
        "id": "HRrU3m8HXtCo"
      },
      "source": [
        "#分析訓練結果圖\n",
        "import matplotlib.pyplot as plt\n",
        "def show_train_history(show_train_value,test_value):\n",
        "    plt.plot(trian_history.history[show_train_value])\n",
        "    plt.plot(trian_history.history[test_value])\n",
        "    plt.title('Train History')\n",
        "    plt.ylabel(show_train_value)\n",
        "    plt.xlabel('Epoch')\n",
        "    plt.legend(['train', 'test'], loc='upper left')\n",
        "    plt.show()"
      ],
      "execution_count": null,
      "outputs": []
    },
    {
      "cell_type": "code",
      "metadata": {
        "id": "pQ_qzxY4fvUs",
        "colab": {
          "base_uri": "https://localhost:8080/",
          "height": 573
        },
        "outputId": "57d77be6-8c6e-4f73-989f-df0f23780203"
      },
      "source": [
        "show_train_history('accuracy','val_accuracy')\n",
        "show_train_history('loss','val_loss')"
      ],
      "execution_count": null,
      "outputs": [
        {
          "output_type": "display_data",
          "data": {
            "image/png": "[encoded data removed]",
            "text/plain": [
              "<Figure size 432x288 with 1 Axes>"
            ]
          },
          "metadata": {
            "tags": [],
            "needs_background": "light"
          }
        },
        {
          "output_type": "display_data",
          "data": {
            "image/png": "[encoded data removed]",
            "text/plain": [
              "<Figure size 432x288 with 1 Axes>"
            ]
          },
          "metadata": {
            "tags": [],
            "needs_background": "light"
          }
        }
      ]
    },
    {
      "cell_type": "code",
      "metadata": {
        "id": "oua05nqrfxRl",
        "colab": {
          "base_uri": "https://localhost:8080/"
        },
        "outputId": "9656fc48-6f6f-41b5-e14a-109c8a4a7a56"
      },
      "source": [
        "#使用model進行預測\n",
        "prediction =  model.predict_classes(x_img_test_normalize)"
      ],
      "execution_count": null,
      "outputs": [
        {
          "output_type": "stream",
          "text": [
            "/usr/local/lib/python3.7/dist-packages/keras/engine/sequential.py:450: UserWarning: `model.predict_classes()` is deprecated and will be removed after 2021-01-01. Please use instead:* `np.argmax(model.predict(x), axis=-1)`,   if your model does multi-class classification   (e.g. if it uses a `softmax` last-layer activation).* `(model.predict(x) > 0.5).astype(\"int32\")`,   if your model does binary classification   (e.g. if it uses a `sigmoid` last-layer activation).\n",
            "  warnings.warn('`model.predict_classes()` is deprecated and '\n"
          ],
          "name": "stderr"
        }
      ]
    },
    {
      "cell_type": "code",
      "metadata": {
        "id": "BtUqnvnYhfBQ",
        "colab": {
          "base_uri": "https://localhost:8080/"
        },
        "outputId": "05ee36d3-7704-44c6-cf91-366866cc7ff9"
      },
      "source": [
        "prediction[0:10]"
      ],
      "execution_count": null,
      "outputs": [
        {
          "output_type": "execute_result",
          "data": {
            "text/plain": [
              "array([3, 8, 8, 8, 6, 6, 1, 4, 3, 1])"
            ]
          },
          "metadata": {
            "tags": []
          },
          "execution_count": 33
        }
      ]
    },
    {
      "cell_type": "code",
      "metadata": {
        "id": "1FwsuXJ3hjRN"
      },
      "source": [
        "import matplotlib.pyplot as plt\n",
        "\n",
        "label_dict={0:\"airplane\",1:\"automobile\",2:\"bird\",3:\"cat\",4:\"deer\",\n",
        "            5:\"dog\",6:\"frog\",7:\"horse\",8:\"ship\",9:\"truck\"}\n",
        "\n",
        "def plot_images_labels_prediction(images,labels,prediction,\n",
        "                                  idx,num=10):\n",
        "    fig = plt.gcf()\n",
        "    fig.set_size_inches(12, 14)\n",
        "    if num>25: num=25 \n",
        "    for i in range(0, num):\n",
        "        ax=plt.subplot(5,5, 1+i)\n",
        "        ax.imshow(images[idx],cmap='binary')\n",
        "                \n",
        "        title=str(i)+','+label_dict[labels[i][0]]\n",
        "        if len(prediction)>0:\n",
        "            title+='=>'+label_dict[prediction[i]]\n",
        "            \n",
        "        ax.set_title(title,fontsize=10,color='red') \n",
        "        ax.set_xticks([]);ax.set_yticks([])        \n",
        "        idx+=1 \n",
        "    plt.show()"
      ],
      "execution_count": null,
      "outputs": []
    },
    {
      "cell_type": "code",
      "metadata": {
        "id": "F7VBldJohlr6",
        "colab": {
          "base_uri": "https://localhost:8080/",
          "height": 321
        },
        "outputId": "39a72b20-face-4d72-b8d9-34cde72921df"
      },
      "source": [
        "plot_images_labels_prediction(x_img_test,y_label_test,prediction,0, 10)"
      ],
      "execution_count": null,
      "outputs": [
        {
          "output_type": "display_data",
          "data": {
            "image/png": "[encoded data removed]",
            "text/plain": [
              "<Figure size 864x1008 with 10 Axes>"
            ]
          },
          "metadata": {
            "tags": []
          }
        }
      ]
    },
    {
      "cell_type": "code",
      "metadata": {
        "id": "AwBEmyqDlvZm"
      },
      "source": [
        "Predicted_Probability = model.predict(x_img_test_normalize)"
      ],
      "execution_count": null,
      "outputs": []
    },
    {
      "cell_type": "code",
      "metadata": {
        "id": "cemoJAcYlxYP"
      },
      "source": [
        "#cifar 查看預測機率\n",
        "def show_Predicted_Probability(y,prediction,\n",
        "                               x_img,Predicted_Probability,i):\n",
        "    print('label:',label_dict[y[i][0]],\n",
        "          'predict:',label_dict[prediction[i]])\n",
        "    plt.figure(figsize=(2,2))\n",
        "    plt.imshow(np.reshape(x_img_test[i],(32, 32,3)))\n",
        "    plt.show()\n",
        "    for j in range(10):\n",
        "        print(label_dict[j]+\n",
        "              ' Probability:%1.9f'%(Predicted_Probability[i][j]))"
      ],
      "execution_count": null,
      "outputs": []
    },
    {
      "cell_type": "code",
      "metadata": {
        "id": "RtOcTOzOl3F3",
        "colab": {
          "base_uri": "https://localhost:8080/",
          "height": 346
        },
        "outputId": "6d3b432a-d163-4771-8fd2-31734fde616e"
      },
      "source": [
        "show_Predicted_Probability(y_label_test,prediction,x_img_test,Predicted_Probability,1002)"
      ],
      "execution_count": null,
      "outputs": [
        {
          "output_type": "stream",
          "text": [
            "label: ship predict: ship\n"
          ],
          "name": "stdout"
        },
        {
          "output_type": "display_data",
          "data": {
            "image/png": "[encoded data removed]",
            "text/plain": [
              "<Figure size 144x144 with 1 Axes>"
            ]
          },
          "metadata": {
            "tags": [],
            "needs_background": "light"
          }
        },
        {
          "output_type": "stream",
          "text": [
            "airplane Probability:0.019403147\n",
            "automobile Probability:0.099180326\n",
            "bird Probability:0.051591594\n",
            "cat Probability:0.179940403\n",
            "deer Probability:0.081072576\n",
            "dog Probability:0.061797258\n",
            "frog Probability:0.083669208\n",
            "horse Probability:0.027053529\n",
            "ship Probability:0.306517214\n",
            "truck Probability:0.089774743\n"
          ],
          "name": "stdout"
        }
      ]
    },
    {
      "cell_type": "code",
      "metadata": {
        "id": "SZHQzbJMA0cU",
        "colab": {
          "base_uri": "https://localhost:8080/",
          "height": 346
        },
        "outputId": "5cc19ec6-d7e6-4e2d-afcd-b797f305e14a"
      },
      "source": [
        "show_Predicted_Probability(y_label_test,prediction,x_img_test,Predicted_Probability,3)"
      ],
      "execution_count": null,
      "outputs": [
        {
          "output_type": "stream",
          "text": [
            "label: airplane predict: ship\n"
          ],
          "name": "stdout"
        },
        {
          "output_type": "display_data",
          "data": {
            "image/png": "[encoded data removed]",
            "text/plain": [
              "<Figure size 144x144 with 1 Axes>"
            ]
          },
          "metadata": {
            "tags": [],
            "needs_background": "light"
          }
        },
        {
          "output_type": "stream",
          "text": [
            "airplane Probability:0.287745178\n",
            "automobile Probability:0.040456459\n",
            "bird Probability:0.038257599\n",
            "cat Probability:0.001735961\n",
            "deer Probability:0.010678325\n",
            "dog Probability:0.001126291\n",
            "frog Probability:0.000501005\n",
            "horse Probability:0.003683184\n",
            "ship Probability:0.603848696\n",
            "truck Probability:0.011967286\n"
          ],
          "name": "stdout"
        }
      ]
    },
    {
      "cell_type": "markdown",
      "metadata": {
        "id": "20Tz9wB9A3aE"
      },
      "source": [
        "混淆矩陣"
      ]
    },
    {
      "cell_type": "code",
      "metadata": {
        "id": "dzTZsvpJA7ik",
        "colab": {
          "base_uri": "https://localhost:8080/"
        },
        "outputId": "8109c465-9d8a-4eb8-9edb-e64b166473e5"
      },
      "source": [
        "prediction.shape"
      ],
      "execution_count": null,
      "outputs": [
        {
          "output_type": "execute_result",
          "data": {
            "text/plain": [
              "(10000,)"
            ]
          },
          "metadata": {
            "tags": []
          },
          "execution_count": 40
        }
      ]
    },
    {
      "cell_type": "code",
      "metadata": {
        "id": "jhOuV_hfBAcC",
        "colab": {
          "base_uri": "https://localhost:8080/"
        },
        "outputId": "b40f469a-3f72-48be-cc80-9711c618de78"
      },
      "source": [
        "y_label_test.shape"
      ],
      "execution_count": null,
      "outputs": [
        {
          "output_type": "execute_result",
          "data": {
            "text/plain": [
              "(10000, 1)"
            ]
          },
          "metadata": {
            "tags": []
          },
          "execution_count": 41
        }
      ]
    },
    {
      "cell_type": "code",
      "metadata": {
        "id": "2Mt31gIQBD27",
        "colab": {
          "base_uri": "https://localhost:8080/"
        },
        "outputId": "e656dd8c-97a0-48ab-bbbe-0e82511e4af4"
      },
      "source": [
        "#轉換成一維陣列\n",
        "y_label_test.reshape(-1)"
      ],
      "execution_count": null,
      "outputs": [
        {
          "output_type": "execute_result",
          "data": {
            "text/plain": [
              "array([3, 8, 8, ..., 5, 1, 7], dtype=uint8)"
            ]
          },
          "metadata": {
            "tags": []
          },
          "execution_count": 42
        }
      ]
    },
    {
      "cell_type": "code",
      "metadata": {
        "id": "y2jMWGd6BNcW",
        "colab": {
          "base_uri": "https://localhost:8080/",
          "height": 407
        },
        "outputId": "c5ad98fe-dcc5-459e-fe32-ba377d29b13d"
      },
      "source": [
        "import pandas as pd\n",
        "print(label_dict)\n",
        "pd.crosstab(y_label_test.reshape(-1), prediction, rownames=['label'], colnames=['predict'])"
      ],
      "execution_count": null,
      "outputs": [
        {
          "output_type": "stream",
          "text": [
            "{0: 'airplane', 1: 'automobile', 2: 'bird', 3: 'cat', 4: 'deer', 5: 'dog', 6: 'frog', 7: 'horse', 8: 'ship', 9: 'truck'}\n"
          ],
          "name": "stdout"
        },
        {
          "output_type": "execute_result",
          "data": {
            "text/html": [
              "<div>\n",
              "<style scoped>\n",
              "    .dataframe tbody tr th:only-of-type {\n",
              "        vertical-align: middle;\n",
              "    }\n",
              "\n",
              "    .dataframe tbody tr th {\n",
              "        vertical-align: top;\n",
              "    }\n",
              "\n",
              "    .dataframe thead th {\n",
              "        text-align: right;\n",
              "    }\n",
              "</style>\n",
              "<table border=\"1\" class=\"dataframe\">\n",
              "  <thead>\n",
              "    <tr style=\"text-align: right;\">\n",
              "      <th>predict</th>\n",
              "      <th>0</th>\n",
              "      <th>1</th>\n",
              "      <th>2</th>\n",
              "      <th>3</th>\n",
              "      <th>4</th>\n",
              "      <th>5</th>\n",
              "      <th>6</th>\n",
              "      <th>7</th>\n",
              "      <th>8</th>\n",
              "      <th>9</th>\n",
              "    </tr>\n",
              "    <tr>\n",
              "      <th>label</th>\n",
              "      <th></th>\n",
              "      <th></th>\n",
              "      <th></th>\n",
              "      <th></th>\n",
              "      <th></th>\n",
              "      <th></th>\n",
              "      <th></th>\n",
              "      <th></th>\n",
              "      <th></th>\n",
              "      <th></th>\n",
              "    </tr>\n",
              "  </thead>\n",
              "  <tbody>\n",
              "    <tr>\n",
              "      <th>0</th>\n",
              "      <td>689</td>\n",
              "      <td>9</td>\n",
              "      <td>41</td>\n",
              "      <td>17</td>\n",
              "      <td>24</td>\n",
              "      <td>4</td>\n",
              "      <td>14</td>\n",
              "      <td>15</td>\n",
              "      <td>128</td>\n",
              "      <td>59</td>\n",
              "    </tr>\n",
              "    <tr>\n",
              "      <th>1</th>\n",
              "      <td>4</td>\n",
              "      <td>824</td>\n",
              "      <td>6</td>\n",
              "      <td>7</td>\n",
              "      <td>4</td>\n",
              "      <td>3</td>\n",
              "      <td>6</td>\n",
              "      <td>4</td>\n",
              "      <td>17</td>\n",
              "      <td>125</td>\n",
              "    </tr>\n",
              "    <tr>\n",
              "      <th>2</th>\n",
              "      <td>35</td>\n",
              "      <td>8</td>\n",
              "      <td>538</td>\n",
              "      <td>69</td>\n",
              "      <td>176</td>\n",
              "      <td>29</td>\n",
              "      <td>77</td>\n",
              "      <td>33</td>\n",
              "      <td>24</td>\n",
              "      <td>11</td>\n",
              "    </tr>\n",
              "    <tr>\n",
              "      <th>3</th>\n",
              "      <td>3</td>\n",
              "      <td>3</td>\n",
              "      <td>27</td>\n",
              "      <td>684</td>\n",
              "      <td>94</td>\n",
              "      <td>59</td>\n",
              "      <td>79</td>\n",
              "      <td>20</td>\n",
              "      <td>13</td>\n",
              "      <td>18</td>\n",
              "    </tr>\n",
              "    <tr>\n",
              "      <th>4</th>\n",
              "      <td>8</td>\n",
              "      <td>2</td>\n",
              "      <td>39</td>\n",
              "      <td>34</td>\n",
              "      <td>798</td>\n",
              "      <td>15</td>\n",
              "      <td>56</td>\n",
              "      <td>29</td>\n",
              "      <td>16</td>\n",
              "      <td>3</td>\n",
              "    </tr>\n",
              "    <tr>\n",
              "      <th>5</th>\n",
              "      <td>7</td>\n",
              "      <td>3</td>\n",
              "      <td>37</td>\n",
              "      <td>118</td>\n",
              "      <td>78</td>\n",
              "      <td>654</td>\n",
              "      <td>57</td>\n",
              "      <td>31</td>\n",
              "      <td>8</td>\n",
              "      <td>7</td>\n",
              "    </tr>\n",
              "    <tr>\n",
              "      <th>6</th>\n",
              "      <td>1</td>\n",
              "      <td>4</td>\n",
              "      <td>18</td>\n",
              "      <td>33</td>\n",
              "      <td>60</td>\n",
              "      <td>8</td>\n",
              "      <td>860</td>\n",
              "      <td>1</td>\n",
              "      <td>2</td>\n",
              "      <td>13</td>\n",
              "    </tr>\n",
              "    <tr>\n",
              "      <th>7</th>\n",
              "      <td>5</td>\n",
              "      <td>1</td>\n",
              "      <td>17</td>\n",
              "      <td>45</td>\n",
              "      <td>72</td>\n",
              "      <td>22</td>\n",
              "      <td>26</td>\n",
              "      <td>801</td>\n",
              "      <td>2</td>\n",
              "      <td>9</td>\n",
              "    </tr>\n",
              "    <tr>\n",
              "      <th>8</th>\n",
              "      <td>17</td>\n",
              "      <td>36</td>\n",
              "      <td>12</td>\n",
              "      <td>18</td>\n",
              "      <td>7</td>\n",
              "      <td>3</td>\n",
              "      <td>7</td>\n",
              "      <td>10</td>\n",
              "      <td>845</td>\n",
              "      <td>45</td>\n",
              "    </tr>\n",
              "    <tr>\n",
              "      <th>9</th>\n",
              "      <td>9</td>\n",
              "      <td>37</td>\n",
              "      <td>9</td>\n",
              "      <td>10</td>\n",
              "      <td>5</td>\n",
              "      <td>3</td>\n",
              "      <td>11</td>\n",
              "      <td>10</td>\n",
              "      <td>19</td>\n",
              "      <td>887</td>\n",
              "    </tr>\n",
              "  </tbody>\n",
              "</table>\n",
              "</div>"
            ],
            "text/plain": [
              "predict    0    1    2    3    4    5    6    7    8    9\n",
              "label                                                    \n",
              "0        689    9   41   17   24    4   14   15  128   59\n",
              "1          4  824    6    7    4    3    6    4   17  125\n",
              "2         35    8  538   69  176   29   77   33   24   11\n",
              "3          3    3   27  684   94   59   79   20   13   18\n",
              "4          8    2   39   34  798   15   56   29   16    3\n",
              "5          7    3   37  118   78  654   57   31    8    7\n",
              "6          1    4   18   33   60    8  860    1    2   13\n",
              "7          5    1   17   45   72   22   26  801    2    9\n",
              "8         17   36   12   18    7    3    7   10  845   45\n",
              "9          9   37    9   10    5    3   11   10   19  887"
            ]
          },
          "metadata": {
            "tags": []
          },
          "execution_count": 44
        }
      ]
    }
  ]
}